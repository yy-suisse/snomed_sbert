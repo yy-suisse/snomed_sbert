{
 "cells": [
  {
   "cell_type": "code",
   "execution_count": 1,
   "id": "17777d33",
   "metadata": {},
   "outputs": [],
   "source": [
    "import polars as pl"
   ]
  },
  {
   "cell_type": "code",
   "execution_count": 5,
   "id": "3879e6b0",
   "metadata": {},
   "outputs": [],
   "source": [
    "PATH_EVALUATION = \"D:/finetune_sbert_new/evaluation\"\n",
    "df_pre = pl.read_csv(PATH_EVALUATION + \"/nearest_pre_post.csv\")\n",
    "df_pre_fd = pl.read_csv(PATH_EVALUATION + \"/nearest_pre_post_fd.csv\")\n"
   ]
  },
  {
   "cell_type": "code",
   "execution_count": 23,
   "id": "c9937331",
   "metadata": {},
   "outputs": [
    {
     "data": {
      "text/plain": [
       "5867"
      ]
     },
     "execution_count": 23,
     "metadata": {},
     "output_type": "execute_result"
    }
   ],
   "source": [
    "len(df_pre), len(df_pre.sort(by = pl.col(\"top1_score\"), descending=True).filter(pl.col(\"top1_score\") > 0.8))\n",
    "len(df_pre.sort(by = pl.col(\"top1_score\"), descending=True).filter(pl.col(\"top1_score\") > 0.8)) "
   ]
  },
  {
   "cell_type": "code",
   "execution_count": 19,
   "id": "4093548c",
   "metadata": {},
   "outputs": [
    {
     "data": {
      "text/plain": [
       "<xlsxwriter.workbook.Workbook at 0x172c98c7910>"
      ]
     },
     "execution_count": 19,
     "metadata": {},
     "output_type": "execute_result"
    }
   ],
   "source": [
    "df_pre.sort(by = pl.col(\"top1_score\"), descending=True).filter(pl.col(\"top1_score\") > 0.8).write_excel(PATH_EVALUATION + \"/nearest_pre_post_top1_gt0_8.xlsx\") "
   ]
  }
 ],
 "metadata": {
  "kernelspec": {
   "display_name": "Python 3",
   "language": "python",
   "name": "python3"
  },
  "language_info": {
   "codemirror_mode": {
    "name": "ipython",
    "version": 3
   },
   "file_extension": ".py",
   "mimetype": "text/x-python",
   "name": "python",
   "nbconvert_exporter": "python",
   "pygments_lexer": "ipython3",
   "version": "3.11.1"
  }
 },
 "nbformat": 4,
 "nbformat_minor": 5
}
