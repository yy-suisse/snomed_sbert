{
 "cells": [
  {
   "cell_type": "code",
   "execution_count": 1,
   "id": "6cc4a3bb",
   "metadata": {},
   "outputs": [],
   "source": [
    "import polars as pl\n",
    "import pickle\n",
    "\n",
    "path_triplet_load = \"D:/finetune_sbert_new/triplet_sample/\"\n",
    "easy_samples = pl.read_csv(path_triplet_load +\"easy_samples.csv\").unique()\n",
    "medium_samples = pl.read_csv(path_triplet_load + \"medium_samples.csv\").unique()\n",
    "hard_samples = pl.read_csv(path_triplet_load +\"hard_samples.csv\").unique()\n",
    "\n",
    "path_concept_info_load = \"D:/finetune_sbert_new/concept_info/\"\n",
    "\n",
    "with open(path_concept_info_load + \"id_to_expr.pkl\", \"rb\") as f:\n",
    "    id_to_expr = pickle.load(f)\n",
    "\n",
    "with open(path_concept_info_load + \"id_to_label_syn.pkl\", \"rb\") as f:\n",
    "    id_to_label_syn = pickle.load(f)"
   ]
  },
  {
   "cell_type": "code",
   "execution_count": 22,
   "id": "44512bac",
   "metadata": {},
   "outputs": [],
   "source": [
    "num_sample = 800000\n",
    "ratio = [0.3, 0.3, 0.4]\n",
    "easy_sampled = easy_samples.sample(n=int(num_sample * ratio[0]), with_replacement=False)\n",
    "medium_sampled = medium_samples.sample(n=int(num_sample * ratio[1]), with_replacement=False)\n",
    "hard_sampled = hard_samples.sample(n=int(num_sample * ratio[2]), with_replacement=False)\n",
    "\n",
    "# Concatenate the three sampled DataFrames\n",
    "all_samples = pl.concat([easy_sampled, medium_sampled, hard_sampled])\n",
    "\n",
    "# get expression and label (or synonym)\n",
    "all_samples = all_samples.select(pl.col(\"anchor\").cast(pl.String),pl.col(\"positive\").cast(pl.String),pl.col(\"negative\").cast(pl.String))"
   ]
  },
  {
   "cell_type": "code",
   "execution_count": 23,
   "id": "6a17c24c",
   "metadata": {},
   "outputs": [],
   "source": [
    "df_label_syn = pl.DataFrame({\n",
    "    \"id\": list(id_to_label_syn.keys()),\n",
    "    \"terms\": list(id_to_label_syn.values())\n",
    "}).explode(\"terms\")"
   ]
  },
  {
   "cell_type": "code",
   "execution_count": null,
   "id": "13d15938",
   "metadata": {},
   "outputs": [
    {
     "data": {
      "text/html": [
       "<div><style>\n",
       ".dataframe > thead > tr,\n",
       ".dataframe > tbody > tr {\n",
       "  text-align: right;\n",
       "  white-space: pre-wrap;\n",
       "}\n",
       "</style>\n",
       "<small>shape: (800_000, 3)</small><table border=\"1\" class=\"dataframe\"><thead><tr><th>anchor</th><th>positive</th><th>negative</th></tr><tr><td>str</td><td>str</td><td>str</td></tr></thead><tbody><tr><td>&quot;|Insertion procedure| + |Intro…</td><td>&quot;Insertion of inert substance i…</td><td>&quot;Presence of primary malignant …</td></tr><tr><td>&quot;|Disease caused by Gram-positi…</td><td>&quot;Infection caused by enterococc…</td><td>&quot;Infection due to anaerobic bac…</td></tr><tr><td>&quot;|Product containing prazepam| …</td><td>&quot;Prazepam-containing product in…</td><td>&quot;Product containing aminoglutet…</td></tr><tr><td>&quot;|Evaluation procedure| : { |Me…</td><td>&quot;Enteral tube insertion assessm…</td><td>&quot;Closed fracture lunate&quot;</td></tr><tr><td>&quot;|Product containing enalapril …</td><td>&quot;Enalapril only product in oral…</td><td>&quot;Metirosine-containing product …</td></tr><tr><td>&hellip;</td><td>&hellip;</td><td>&hellip;</td></tr><tr><td>&quot;|Finding of lower limb| + |Swe…</td><td>&quot;Swelling of lower limb (findin…</td><td>&quot;Pulse in left popliteal artery…</td></tr><tr><td>&quot;|Suspected infectious disease|…</td><td>&quot;Acute poliomyelitis suspected …</td><td>&quot;Suspected non-accidental injur…</td></tr><tr><td>&quot;|Glomerular disease due to inf…</td><td>&quot;Glomerulonephritis due to hepa…</td><td>&quot;Structure of bursa of finger o…</td></tr><tr><td>&quot;|Biopsy of lymph node| + |Immu…</td><td>&quot;Surgical biopsy of lymph node …</td><td>&quot;Open biopsy of tongue&quot;</td></tr><tr><td>&quot;|Product containing ipodate| +…</td><td>&quot;Ipodate-containing product in …</td><td>&quot;Cefditoren-containing product …</td></tr></tbody></table></div>"
      ],
      "text/plain": [
       "shape: (800_000, 3)\n",
       "┌────────────────────────────────┬────────────────────────────────┬────────────────────────────────┐\n",
       "│ anchor                         ┆ positive                       ┆ negative                       │\n",
       "│ ---                            ┆ ---                            ┆ ---                            │\n",
       "│ str                            ┆ str                            ┆ str                            │\n",
       "╞════════════════════════════════╪════════════════════════════════╪════════════════════════════════╡\n",
       "│ |Insertion procedure| +        ┆ Insertion of inert substance   ┆ Presence of primary malignant  │\n",
       "│ |Intro…                        ┆ i…                             ┆ …                              │\n",
       "│ |Disease caused by             ┆ Infection caused by            ┆ Infection due to anaerobic     │\n",
       "│ Gram-positi…                   ┆ enterococc…                    ┆ bac…                           │\n",
       "│ |Product containing prazepam|  ┆ Prazepam-containing product    ┆ Product containing             │\n",
       "│ …                              ┆ in…                            ┆ aminoglutet…                   │\n",
       "│ |Evaluation procedure| : {     ┆ Enteral tube insertion         ┆ Closed fracture lunate         │\n",
       "│ |Me…                           ┆ assessm…                       ┆                                │\n",
       "│ |Product containing enalapril  ┆ Enalapril only product in      ┆ Metirosine-containing product  │\n",
       "│ …                              ┆ oral…                          ┆ …                              │\n",
       "│ …                              ┆ …                              ┆ …                              │\n",
       "│ |Finding of lower limb| +      ┆ Swelling of lower limb         ┆ Pulse in left popliteal        │\n",
       "│ |Swe…                          ┆ (findin…                       ┆ artery…                        │\n",
       "│ |Suspected infectious          ┆ Acute poliomyelitis suspected  ┆ Suspected non-accidental       │\n",
       "│ disease|…                      ┆ …                              ┆ injur…                         │\n",
       "│ |Glomerular disease due to     ┆ Glomerulonephritis due to      ┆ Structure of bursa of finger   │\n",
       "│ inf…                           ┆ hepa…                          ┆ o…                             │\n",
       "│ |Biopsy of lymph node| +       ┆ Surgical biopsy of lymph node  ┆ Open biopsy of tongue          │\n",
       "│ |Immu…                         ┆ …                              ┆                                │\n",
       "│ |Product containing ipodate|   ┆ Ipodate-containing product in  ┆ Cefditoren-containing product  │\n",
       "│ +…                             ┆ …                              ┆ …                              │\n",
       "└────────────────────────────────┴────────────────────────────────┴────────────────────────────────┘"
      ]
     },
     "execution_count": 24,
     "metadata": {},
     "output_type": "execute_result"
    }
   ],
   "source": [
    "all_samples = (all_samples\n",
    " .with_columns(pl.col(\"anchor\").replace(id_to_expr).alias(\"anchor_exp\"))\n",
    " .join(df_label_syn, left_on=\"positive\", right_on=\"id\")\n",
    " .rename({\"terms\": \"positive_label\"})\n",
    " .join(df_label_syn, left_on=\"negative\", right_on=\"id\")\n",
    " .rename({\"terms\": \"negative_label\"})).sample(num_sample,shuffle=True, seed=1)\n",
    "\n",
    "all_samples = all_samples.drop(pl.col(\"anchor\"), pl.col(\"positive\"), pl.col(\"negative\")).rename({\n",
    "    \"anchor_exp\":\"anchor\",\n",
    "    \"positive_label\":\"positive\",\n",
    "    \"negative_label\":\"negative\"\n",
    "})\n",
    "\n",
    "dataset_name = \"triplet_\" + str(num_sample)+ \".parquet\"\n",
    "all_samples.write_parquet(path_triplet_load + dataset_name)"
   ]
  },
  {
   "cell_type": "code",
   "execution_count": 9,
   "id": "0db7c066",
   "metadata": {},
   "outputs": [
    {
     "data": {
      "text/plain": [
       "'|Infection of skin| + |Infective disorder of head| + |Nonvenomous insect bite with infection| + |Wound of head due to nonvenomous insect bite| : { |Finding site| = |Skin structure of head|, |Associated morphology| = |Superficial bite wound|, |Pathological process| = |Infectious process| }, { |Due to| = |Bite of nonvenomous insect| }'"
      ]
     },
     "execution_count": 9,
     "metadata": {},
     "output_type": "execute_result"
    }
   ],
   "source": [
    "id_to_expr['211012003']"
   ]
  }
 ],
 "metadata": {
  "kernelspec": {
   "display_name": "Python 3",
   "language": "python",
   "name": "python3"
  },
  "language_info": {
   "codemirror_mode": {
    "name": "ipython",
    "version": 3
   },
   "file_extension": ".py",
   "mimetype": "text/x-python",
   "name": "python",
   "nbconvert_exporter": "python",
   "pygments_lexer": "ipython3",
   "version": "3.11.1"
  }
 },
 "nbformat": 4,
 "nbformat_minor": 5
}
